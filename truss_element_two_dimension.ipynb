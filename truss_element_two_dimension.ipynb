{
 "cells": [
  {
   "cell_type": "markdown",
   "id": "915ea3de",
   "metadata": {},
   "source": [
    "# Fem structural analysis code for finding displacement in homogeneous 2d bar elements."
   ]
  },
  {
   "cell_type": "code",
   "execution_count": 3,
   "id": "1deccafd",
   "metadata": {},
   "outputs": [
    {
     "name": "stdout",
     "output_type": "stream",
     "text": [
      "[1, 2, 3, 4]\n",
      "58613333.333333336\n",
      "41471698.11320754\n",
      "58613333.333333336\n",
      "58613333.333333336\n"
     ]
    }
   ],
   "source": [
    "import numpy as np\n",
    "n=4 #number of elements\n",
    "elements=[]\n",
    "for i in range(1,n+1):\n",
    "    elements.append(i)\n",
    "    \n",
    "    \n",
    "print((elements))\n",
    "#properties of elements in a member\n",
    "theta=[0,45,0,90]    #angle in degrees with respect to horizontal\n",
    "E=[280000000000,280000000000,280000000000,280000000000]  #Modulus of Elasticity\n",
    "L=[1.5,2.12,1.5,1.5]      #Length of Each Element\n",
    "A=[0.000314,0.000314,0.000314,0.000314] #Area of each element\n",
    "stifness=elements\n",
    "for i in range(0,n):\n",
    "    stifness[i]=A[i-1]*E[i-1]/L[i]\n",
    "    print(stifness[i])\n",
    "#print(stifness[1])\n",
    "   "
   ]
  },
  {
   "cell_type": "code",
   "execution_count": 4,
   "id": "8852d960",
   "metadata": {},
   "outputs": [
    {
     "name": "stdout",
     "output_type": "stream",
     "text": [
      "enter the no of nodes releated to element:\n",
      "1\n",
      "4\n",
      "enter the no of nodes releated to element:\n",
      "1\n",
      "3\n",
      "enter the no of nodes releated to element:\n",
      "2\n",
      "3\n",
      "enter the no of nodes releated to element:\n",
      "3\n",
      "4\n",
      "[array([1, 4]), array([1, 3]), array([2, 3]), array([3, 4])]\n"
     ]
    }
   ],
   "source": [
    "elementinfo=[]\n",
    "for i in range(1,n+1):\n",
    "    elementinfo.append(i)\n",
    "for i in range(0,n):      #node element information\n",
    "    print('enter the no of nodes releated to element:')\n",
    "    x=int(input())\n",
    "    y=int(input())\n",
    "    elementinfo[i]=np.array([x,y])\n",
    "print(elementinfo)\n",
    "\n"
   ]
  },
  {
   "cell_type": "code",
   "execution_count": 5,
   "id": "da62e451",
   "metadata": {},
   "outputs": [
    {
     "name": "stdout",
     "output_type": "stream",
     "text": [
      "stifness matrix for element 1\n",
      "[[ 58613333.33333334         0.         -58613333.33333334\n",
      "         -0.        ]\n",
      " [        0.                 0.                -0.\n",
      "         -0.        ]\n",
      " [-58613333.33333334        -0.          58613333.33333334\n",
      "          0.        ]\n",
      " [       -0.                -0.                 0.\n",
      "          0.        ]]\n",
      "stifness matrix for element 2\n",
      "[[ 20735849.05660377  20735849.05660377 -20735849.05660377\n",
      "  -20735849.05660377]\n",
      " [ 20735849.05660377  20735849.05660377 -20735849.05660377\n",
      "  -20735849.05660377]\n",
      " [-20735849.05660377 -20735849.05660377  20735849.05660377\n",
      "   20735849.05660377]\n",
      " [-20735849.05660377 -20735849.05660377  20735849.05660377\n",
      "   20735849.05660377]]\n",
      "stifness matrix for element 3\n",
      "[[ 58613333.33333334         0.         -58613333.33333334\n",
      "         -0.        ]\n",
      " [        0.                 0.                -0.\n",
      "         -0.        ]\n",
      " [-58613333.33333334        -0.          58613333.33333334\n",
      "          0.        ]\n",
      " [       -0.                -0.                 0.\n",
      "          0.        ]]\n",
      "stifness matrix for element 4\n",
      "[[ 2.19764800e-25  3.58903155e-09 -2.19764800e-25 -3.58903155e-09]\n",
      " [ 3.58903155e-09  5.86133333e+07 -3.58903155e-09 -5.86133333e+07]\n",
      " [-2.19764800e-25 -3.58903155e-09  2.19764800e-25  3.58903155e-09]\n",
      " [-3.58903155e-09 -5.86133333e+07  3.58903155e-09  5.86133333e+07]]\n"
     ]
    }
   ],
   "source": [
    "#element matrix\n",
    "R=elements \n",
    "for i in range (0,n):\n",
    "    c=np.cos(theta[i]*np.pi/180)\n",
    "    s=np.sin(theta[i]*np.pi/180)\n",
    "    R[i]=np.array([[c*c,c*s,-c*c,-c*s],[c*s,s*s,-c*s,-s*s],[-c*c,-c*s,c*c,c*s],[-c*s,-s*s,c*s,s*s]])*stifness[i]\n",
    "    print('stifness matrix for element',i+1)\n",
    "    print(R[i])   "
   ]
  },
  {
   "cell_type": "code",
   "execution_count": 6,
   "id": "15bfa969",
   "metadata": {},
   "outputs": [
    {
     "name": "stdout",
     "output_type": "stream",
     "text": [
      "enter the number of nodes4\n"
     ]
    }
   ],
   "source": [
    "elementinfo[1]\n",
    "nodes=int(input('enter the number of nodes'))\n"
   ]
  },
  {
   "cell_type": "code",
   "execution_count": 7,
   "id": "dae15910",
   "metadata": {},
   "outputs": [
    {
     "name": "stdout",
     "output_type": "stream",
     "text": [
      "[[ 7.93491824e+07  2.07358491e+07  0.00000000e+00  0.00000000e+00\n",
      "  -2.07358491e+07 -2.07358491e+07 -5.86133333e+07  0.00000000e+00]\n",
      " [ 2.07358491e+07  2.07358491e+07  0.00000000e+00  0.00000000e+00\n",
      "  -2.07358491e+07 -2.07358491e+07  0.00000000e+00  0.00000000e+00]\n",
      " [ 0.00000000e+00  0.00000000e+00  5.86133333e+07  0.00000000e+00\n",
      "  -5.86133333e+07  0.00000000e+00  0.00000000e+00  0.00000000e+00]\n",
      " [ 0.00000000e+00  0.00000000e+00  0.00000000e+00  0.00000000e+00\n",
      "   0.00000000e+00  0.00000000e+00  0.00000000e+00  0.00000000e+00]\n",
      " [-2.07358491e+07 -2.07358491e+07 -5.86133333e+07  0.00000000e+00\n",
      "   7.93491824e+07  2.07358491e+07 -2.19764800e-25 -3.58903155e-09]\n",
      " [-2.07358491e+07 -2.07358491e+07  0.00000000e+00  0.00000000e+00\n",
      "   2.07358491e+07  7.93491824e+07 -3.58903155e-09 -5.86133333e+07]\n",
      " [-5.86133333e+07  0.00000000e+00  0.00000000e+00  0.00000000e+00\n",
      "  -2.19764800e-25 -3.58903155e-09  5.86133333e+07  3.58903155e-09]\n",
      " [ 0.00000000e+00  0.00000000e+00  0.00000000e+00  0.00000000e+00\n",
      "  -3.58903155e-09 -5.86133333e+07  3.58903155e-09  5.86133333e+07]]\n"
     ]
    }
   ],
   "source": [
    "#global matrix\n",
    "kglobal=np.zeros((2*nodes,2*nodes))\n",
    "for i in range (0,n):\n",
    "    \n",
    "    #print(2*elementinfo[i][0]-2,2*elementinfo[i][0]-2,'  ',R[i][0][0])\n",
    "    kglobal[2*elementinfo[i][0]-2,2*elementinfo[i][0]-2]=kglobal[2*elementinfo[i][0]-2,2*elementinfo[i][0]-2]+R[i][0][0]\n",
    "    \n",
    "    \n",
    "    #print(2*elementinfo[i][0]-2,2*elementinfo[i][0]-1,'  ',R[i][0][1])\n",
    "    kglobal[2*elementinfo[i][0]-2,2*elementinfo[i][0]-1]=kglobal[2*elementinfo[i][0]-2,2*elementinfo[i][0]-1]+R[i][0][1]\n",
    "    \n",
    "    \n",
    "    #print(2*elementinfo[i][0]-2,2*elementinfo[i][1]-2,'  ',R[i][0][2])\n",
    "    kglobal[2*elementinfo[i][0]-2,2*elementinfo[i][1]-2]=kglobal[2*elementinfo[i][0]-2,2*elementinfo[i][1]-2]+R[i][0][2]\n",
    "    \n",
    "    \n",
    "    #print(2*elementinfo[i][0]-2,2*elementinfo[i][1]-1,'  ',R[i][0][3])\n",
    "    kglobal[2*elementinfo[i][0]-2,2*elementinfo[i][1]-1]=kglobal[2*elementinfo[i][0]-2,2*elementinfo[i][1]-1]+R[i][0][3]\n",
    "    \n",
    "    \n",
    "    #print(2*elementinfo[i][0]-1,2*elementinfo[i][0]-2,'  ',R[i][1][0])\n",
    "    kglobal[2*elementinfo[i][0]-1,2*elementinfo[i][0]-2]=kglobal[2*elementinfo[i][0]-1,2*elementinfo[i][0]-2]+R[i][1][0]\n",
    "    \n",
    "    \n",
    "    #print(2*elementinfo[i][0]-1,2*elementinfo[i][0]-1,'  ',R[i][1][1])\n",
    "    kglobal[2*elementinfo[i][0]-1,2*elementinfo[i][0]-1]=kglobal[2*elementinfo[i][0]-1,2*elementinfo[i][0]-1]+R[i][1][1]\n",
    "    \n",
    "    \n",
    "    #print(2*elementinfo[i][0]-1,2*elementinfo[i][1]-2,'  ',R[i][1][2])\n",
    "    kglobal[2*elementinfo[i][0]-1,2*elementinfo[i][1]-2]=kglobal[2*elementinfo[i][0]-1,2*elementinfo[i][1]-2]+R[i][1][2]\n",
    "    \n",
    "    \n",
    "    \n",
    "    #print(2*elementinfo[i][0]-1,2*elementinfo[i][1]-1,'  ',R[i][1][3])\n",
    "    kglobal[2*elementinfo[i][0]-1,2*elementinfo[i][1]-1]=kglobal[2*elementinfo[i][0]-1,2*elementinfo[i][1]-1]+R[i][1][3]\n",
    "    \n",
    "    \n",
    "    #print(2*elementinfo[i][1]-2,2*elementinfo[i][0]-2,'  ',R[i][2][0])\n",
    "    kglobal[2*elementinfo[i][1]-2,2*elementinfo[i][0]-2]=kglobal[2*elementinfo[i][1]-2,2*elementinfo[i][0]-2]+R[i][2][0]\n",
    "    \n",
    "    \n",
    "    #print(2*elementinfo[i][1]-2,2*elementinfo[i][0]-1,'  ',R[i][2][1])\n",
    "    kglobal[2*elementinfo[i][1]-2,2*elementinfo[i][0]-1]=kglobal[2*elementinfo[i][1]-2,2*elementinfo[i][0]-1]+R[i][2][1]\n",
    "    \n",
    "    \n",
    "    #print(2*elementinfo[i][1]-2,2*elementinfo[i][1]-2,'  ',R[i][2][2])\n",
    "    kglobal[2*elementinfo[i][1]-2,2*elementinfo[i][1]-2]=kglobal[2*elementinfo[i][1]-2,2*elementinfo[i][1]-2]+R[i][2][2]\n",
    "    \n",
    "    \n",
    "    #print(2*elementinfo[i][1]-2,2*elementinfo[i][1]-1,'  ',R[i][2][3])\n",
    "    kglobal[2*elementinfo[i][1]-2,2*elementinfo[i][1]-1]=kglobal[2*elementinfo[i][1]-2,2*elementinfo[i][1]-1]+R[i][2][3]\n",
    "    \n",
    "    \n",
    "    #print(2*elementinfo[i][1]-1,2*elementinfo[i][0]-2,'  ',R[i][3][0])\n",
    "    kglobal[2*elementinfo[i][1]-1,2*elementinfo[i][0]-2]=kglobal[2*elementinfo[i][1]-1,2*elementinfo[i][0]-2]+R[i][3][0]\n",
    "    \n",
    "    \n",
    "    #print(2*elementinfo[i][1]-1,2*elementinfo[i][0]-1,'  ',R[i][3][1])\n",
    "    kglobal[2*elementinfo[i][1]-1,2*elementinfo[i][0]-1]=kglobal[2*elementinfo[i][1]-1,2*elementinfo[i][0]-1]+R[i][3][1]\n",
    "    \n",
    "    \n",
    "    #print(2*elementinfo[i][1]-1,2*elementinfo[i][1]-2,'  ',R[i][3][2])\n",
    "    kglobal[2*elementinfo[i][1]-1,2*elementinfo[i][1]-2]=kglobal[2*elementinfo[i][1]-1,2*elementinfo[i][1]-2]+R[i][3][2]\n",
    "    \n",
    "    \n",
    "    #print(2*elementinfo[i][1]-1,2*elementinfo[i][1]-1,'  ',R[i][3][3])\n",
    "    kglobal[2*elementinfo[i][1]-1,2*elementinfo[i][1]-1]=kglobal[2*elementinfo[i][1]-1,2*elementinfo[i][1]-1]+R[i][3][3]\n",
    "    \n",
    "\n",
    "                        \n",
    "                     \n",
    "                        \n",
    "print(kglobal)                   \n"
   ]
  },
  {
   "cell_type": "code",
   "execution_count": 9,
   "id": "043e32cf",
   "metadata": {},
   "outputs": [
    {
     "name": "stdout",
     "output_type": "stream",
     "text": [
      "[[5000]\n",
      " [7000]\n",
      " [   0]\n",
      " [   0]]\n"
     ]
    }
   ],
   "source": [
    "# applied forces\n",
    "F=np.array([[5000],[7000],[0],[0]])\n",
    "print(F)\n",
    "\n",
    "\n"
   ]
  },
  {
   "cell_type": "code",
   "execution_count": 10,
   "id": "3069135e",
   "metadata": {},
   "outputs": [],
   "source": [
    "# chopout constraint rows and coloumns.\n",
    "mat=(np.delete(kglobal,[0,1,2,3],0))\n",
    "matrix=np.delete(mat,[0,1,2,3],1)\n",
    "\n"
   ]
  },
  {
   "cell_type": "code",
   "execution_count": 11,
   "id": "2f4cf4b2",
   "metadata": {},
   "outputs": [
    {
     "name": "stdout",
     "output_type": "stream",
     "text": [
      "[[ 7.93491824e+07  2.07358491e+07 -2.19764800e-25 -3.58903155e-09]\n",
      " [ 2.07358491e+07  7.93491824e+07 -3.58903155e-09 -5.86133333e+07]\n",
      " [-2.19764800e-25 -3.58903155e-09  5.86133333e+07  3.58903155e-09]\n",
      " [-3.58903155e-09 -5.86133333e+07  3.58903155e-09  5.86133333e+07]]\n"
     ]
    }
   ],
   "source": [
    "\n",
    "print(matrix)"
   ]
  },
  {
   "cell_type": "code",
   "execution_count": 12,
   "id": "87d25fcc",
   "metadata": {},
   "outputs": [
    {
     "name": "stdout",
     "output_type": "stream",
     "text": [
      "[[ 1.70609645e-08 -1.70609645e-08  3.36635428e-42 -1.70609645e-08]\n",
      " [-1.70609645e-08  6.52866242e-08 -1.28819157e-41  6.52866242e-08]\n",
      " [-8.42983752e-42  1.75127929e-40  1.70609645e-08 -1.04468278e-24]\n",
      " [-1.70609645e-08  6.52866242e-08 -1.04468278e-24  8.23475887e-08]]\n"
     ]
    }
   ],
   "source": [
    "matrixinv=np.linalg.inv(matrix)\n",
    "print(matrixinv)"
   ]
  },
  {
   "cell_type": "code",
   "execution_count": 13,
   "id": "2346cd8a",
   "metadata": {},
   "outputs": [
    {
     "name": "stdout",
     "output_type": "stream",
     "text": [
      "[[-3.41219290e-05]\n",
      " [ 3.71701547e-04]\n",
      " [ 1.18374632e-36]\n",
      " [ 3.71701547e-04]]\n"
     ]
    }
   ],
   "source": [
    "# matrixmultiplication\n",
    "displacements=np.matmul(matrixinv,F)\n",
    "print(displacements)"
   ]
  },
  {
   "cell_type": "code",
   "execution_count": 14,
   "id": "1a55c571",
   "metadata": {},
   "outputs": [],
   "source": [
    "# displacement vector is given by.\n",
    "\n",
    "displace=np.array([[0],[0],[0],[0],[0.0005333],[0.001729]])"
   ]
  },
  {
   "cell_type": "code",
   "execution_count": 92,
   "id": "deab2215",
   "metadata": {},
   "outputs": [
    {
     "name": "stdout",
     "output_type": "stream",
     "text": [
      "[[-299.98673975]\n",
      " [-299.98673975]\n",
      " [-199.9875    ]\n",
      " [   0.        ]\n",
      " [ 499.97423975]\n",
      " [ 299.98673975]]\n"
     ]
    }
   ],
   "source": [
    "# forces \n",
    "forces=np.matmul(kglobal,displace)\n",
    "print(forces)"
   ]
  }
 ],
 "metadata": {
  "kernelspec": {
   "display_name": "Python 3",
   "language": "python",
   "name": "python3"
  },
  "language_info": {
   "codemirror_mode": {
    "name": "ipython",
    "version": 3
   },
   "file_extension": ".py",
   "mimetype": "text/x-python",
   "name": "python",
   "nbconvert_exporter": "python",
   "pygments_lexer": "ipython3",
   "version": "3.8.10"
  }
 },
 "nbformat": 4,
 "nbformat_minor": 5
}
